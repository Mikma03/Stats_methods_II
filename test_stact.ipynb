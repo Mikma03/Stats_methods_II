{
 "cells": [
  {
   "cell_type": "code",
   "execution_count": null,
   "metadata": {},
   "outputs": [],
   "source": [
    "fig, ax = plt.subplots(figsize = (6,4))\n",
    "\n",
    "# Plot\n",
    "    # Plot histogram\n",
    "avocado.plot(kind = \"hist\", density = True, alpha = 0.65, bins = 15) # change density to true, because KDE uses density\n",
    "    # Plot KDE\n",
    "avocado.plot(kind = \"kde\")\n",
    "\n",
    "    # Quantile lines\n",
    "quant_5, quant_25, quant_50, quant_75, quant_95 = avocado.quantile(0.05), avocado.quantile(0.25), avocado.quantile(0.5), avocado.quantile(0.75), avocado.quantile(0.95)\n",
    "quants = [[quant_5, 0.6, 0.16], [quant_25, 0.8, 0.26], [quant_50, 1, 0.36],  [quant_75, 0.8, 0.46], [quant_95, 0.6, 0.56]]\n",
    "for i in quants:\n",
    "    ax.axvline(i[0], alpha = i[1], ymax = i[2], linestyle = \":\")\n",
    "\n",
    "\n",
    "# X\n",
    "ax.set_xlabel(\"Average Price ($)\")\n",
    "    # Limit x range to 0-4\n",
    "x_start, x_end = 0, 4\n",
    "ax.set_xlim(x_start, x_end)\n",
    "\n",
    "# Y\n",
    "ax.set_ylim(0, 1)\n",
    "ax.set_yticklabels([])\n",
    "ax.set_ylabel(\"\")\n",
    "\n",
    "# Annotations\n",
    "ax.text(quant_5-.1, 0.17, \"5th\", size = 10, alpha = 0.8)\n",
    "ax.text(quant_25-.13, 0.27, \"25th\", size = 11, alpha = 0.85)\n",
    "ax.text(quant_50-.13, 0.37, \"50th\", size = 12, alpha = 1)\n",
    "ax.text(quant_75-.13, 0.47, \"75th\", size = 11, alpha = 0.85)\n",
    "ax.text(quant_95-.25, 0.57, \"95th Percentile\", size = 10, alpha =.8)\n",
    "\n",
    "# Overall\n",
    "ax.grid(False)\n",
    "ax.set_title(\"Avocado Prices in U.S. Markets\", size = 17, pad = 10)\n",
    "\n",
    "    # Remove ticks and spines\n",
    "ax.tick_params(left = False, bottom = False)\n",
    "for ax, spine in ax.spines.items():\n",
    "    spine.set_visible(False)\n",
    "    \n",
    "plt.show()"
   ]
  }
 ],
 "metadata": {
  "language_info": {
   "name": "python"
  },
  "orig_nbformat": 4
 },
 "nbformat": 4,
 "nbformat_minor": 2
}
